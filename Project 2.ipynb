{
 "cells": [
  {
   "cell_type": "markdown",
   "id": "72adcd0a",
   "metadata": {},
   "source": [
    "### PROJECT 2 (WHILE LOOP)"
   ]
  },
  {
   "cell_type": "markdown",
   "id": "c5598330",
   "metadata": {},
   "source": [
    "#### Write programs for Candidates with saved and unsumitted applications"
   ]
  },
  {
   "cell_type": "markdown",
   "id": "49282814",
   "metadata": {},
   "source": [
    "\n",
    "\n",
    "\n",
    "\n"
   ]
  },
  {
   "cell_type": "markdown",
   "id": "5f1269bd",
   "metadata": {},
   "source": [
    "\n",
    "\n",
    "\n",
    "\n"
   ]
  },
  {
   "cell_type": "markdown",
   "id": "27a774c8",
   "metadata": {},
   "source": [
    "For Candidates who are ready to submit their application "
   ]
  },
  {
   "cell_type": "code",
   "execution_count": 3,
   "id": "27c64424",
   "metadata": {},
   "outputs": [
    {
     "name": "stdout",
     "output_type": "stream",
     "text": [
      "Enter your name: John Fletcher\n",
      "Enter your username: John123\n",
      "Enter your password: ········\n",
      "\n",
      "\n",
      "John Fletcher, your application has not been submitted\n",
      "Submit your application\n",
      "\n",
      "Enter \"Yes\" to submit your application: Yes\n",
      "\n",
      "\n",
      "\n",
      "Congratulations!!! Your application has been submitted.\n"
     ]
    }
   ],
   "source": [
    "while True:\n",
    "    Candidate= input (\"Enter your name: \")\n",
    "    Username = input (\"Enter your username: \")\n",
    "    import getpass\n",
    "    Password = getpass.getpass (\"Enter your password: \")\n",
    "    if Username and not Password:\n",
    "        print (\"Error: \\nYou have entered an incorrect password or username\")\n",
    "        break\n",
    "    if Candidate and Username and Password:\n",
    "        print (f\"\\n\\n{Candidate}, your application has not been submitted\")\n",
    "    if Candidate == Candidate:\n",
    "        print (\"Submit your application\")\n",
    "        Submit = input (\"\\nEnter \\\"Yes\\\" to submit your application: \")\n",
    "        if Submit == \"Yes\":\n",
    "            print (\"\\n\\n\\nCongratulations!!! Your application has been submitted.\")\n",
    "        else:\n",
    "            print (\"Save and close application page\")\n",
    "        break"
   ]
  },
  {
   "cell_type": "markdown",
   "id": "d60d4b43",
   "metadata": {},
   "source": [
    "\n",
    "\n"
   ]
  },
  {
   "cell_type": "markdown",
   "id": "52f8610b",
   "metadata": {},
   "source": [
    "#### For Candidates who are not ready to submit application"
   ]
  },
  {
   "cell_type": "code",
   "execution_count": 1,
   "id": "bca03623",
   "metadata": {},
   "outputs": [
    {
     "name": "stdout",
     "output_type": "stream",
     "text": [
      "Enter your name: Cecilia Gary\n",
      "Enter your username: Cecilia787\n",
      "Enter your password: ········\n",
      "\n",
      "\n",
      "Cecilia Gary, your application has not been submitted\n",
      "Submit your application\n",
      "Enter \"Yes\" to submit your application: \n",
      "\n",
      "\n",
      "You are not ready to submit your application\n",
      "\n",
      "Save and close application page\n"
     ]
    }
   ],
   "source": [
    "while True:\n",
    "    Candidate= input (\"Enter your name: \")\n",
    "    Username = input (\"Enter your username: \")\n",
    "\n",
    "    import getpass\n",
    "    Password = getpass.getpass (\"Enter your password: \")\n",
    "    \n",
    "    if Candidate and Username and Password:\n",
    "        print (f\"\\n\\n{Candidate}, your application has not been submitted\")\n",
    "    else:\n",
    "        print (\"\\n\\nError: \\nYou have entered an incorrect password or username\")\n",
    "        break\n",
    "    if Candidate == Candidate:\n",
    "        print (\"Submit your application\")\n",
    "        Submit = input (\"Enter \\\"Yes\\\" to submit your application: \")\n",
    "        if Submit == \"Yes\":\n",
    "            print (\"Your application has been submitted\")\n",
    "        else:\n",
    "            print (\"\\n\\nYou are not ready to submit your application\")\n",
    "            print (\"\\nSave and close application page\")\n",
    "        break"
   ]
  },
  {
   "cell_type": "markdown",
   "id": "d822f8e1",
   "metadata": {},
   "source": [
    "\n",
    "\n",
    "\n",
    "\n"
   ]
  },
  {
   "cell_type": "markdown",
   "id": "fccd81fe",
   "metadata": {},
   "source": [
    "\n",
    "\n",
    "\n",
    "\n",
    "\n"
   ]
  },
  {
   "cell_type": "markdown",
   "id": "2cbe154c",
   "metadata": {},
   "source": [
    "#### For candidates who omits or enters incorrect uername"
   ]
  },
  {
   "cell_type": "code",
   "execution_count": 1,
   "id": "742b45e6",
   "metadata": {},
   "outputs": [
    {
     "name": "stdout",
     "output_type": "stream",
     "text": [
      "Enter your name: Jessica Bryan\n",
      "Enter your username: \n",
      "Enter your password: ········\n",
      "\n",
      "\n",
      "Error: \n",
      "You have entered an incorrect password or username\n"
     ]
    }
   ],
   "source": [
    "while True:\n",
    "    Candidate= input (\"Enter your name: \")\n",
    "    Username = input (\"Enter your username: \")\n",
    "    \n",
    "    import getpass\n",
    "    Password = getpass.getpass (\"Enter your password: \")\n",
    "    \n",
    "    if Candidate and Username and Password:\n",
    "        print (f\"\\n\\n{Candidate}, your application has not been submitted\")\n",
    "    else:\n",
    "        print (\"\\n\\nError: \\nYou have entered an incorrect password or username\")\n",
    "        break\n",
    "    \n",
    "    if Candidate == Candidate:\n",
    "        print (\"Submit your application\")\n",
    "        Submit = input (\"Enter \\\"Yes\\\" to submit your application: \")\n",
    "        if Submit == \"Yes\":\n",
    "            print (\"Your application has been submitted\")\n",
    "        else:\n",
    "            print (\"Save and close application page\")\n",
    "        break"
   ]
  },
  {
   "cell_type": "markdown",
   "id": "d9b49a67",
   "metadata": {},
   "source": [
    "\n",
    "\n",
    "\n",
    "\n"
   ]
  },
  {
   "cell_type": "markdown",
   "id": "6c56bb41",
   "metadata": {},
   "source": [
    "\n",
    "\n",
    "\n"
   ]
  },
  {
   "cell_type": "markdown",
   "id": "0f8215c2",
   "metadata": {},
   "source": [
    "##### For Candidates who omit or enter incorrect password"
   ]
  },
  {
   "cell_type": "code",
   "execution_count": 2,
   "id": "0d83a1ef",
   "metadata": {},
   "outputs": [
    {
     "name": "stdout",
     "output_type": "stream",
     "text": [
      "Enter your name: Paul Wilberforce\n",
      "Enter your username: paul4242\n",
      "Enter your password: ········\n",
      "\n",
      "\n",
      "Error: \n",
      "You have entered an incorrect password or username\n"
     ]
    }
   ],
   "source": [
    "while True:\n",
    "    Candidate= input (\"Enter your name: \")\n",
    "    Username = input (\"Enter your username: \")\n",
    "    \n",
    "    import getpass\n",
    "    Password = getpass.getpass (\"Enter your password: \")\n",
    "    \n",
    "    if Candidate and Username and Password:\n",
    "        print (f\"\\n\\n{Candidate}, your application has not been submitted\")\n",
    "    else:\n",
    "        print (\"\\n\\nError: \\nYou have entered an incorrect password or username\")\n",
    "        break\n",
    "    \n",
    "    if Candidate == Candidate:\n",
    "        print (\"Submit your application\")\n",
    "        Submit = input (\"Enter \\\"Yes\\\" to submit your application: \")\n",
    "        if Submit == \"Yes\":\n",
    "            print (\"Your application has been submitted\")\n",
    "        else:\n",
    "            print (\"Save and close application page\")\n",
    "        break"
   ]
  },
  {
   "cell_type": "code",
   "execution_count": null,
   "id": "0325335c",
   "metadata": {},
   "outputs": [],
   "source": []
  }
 ],
 "metadata": {
  "kernelspec": {
   "display_name": "Python 3",
   "language": "python",
   "name": "python3"
  },
  "language_info": {
   "codemirror_mode": {
    "name": "ipython",
    "version": 3
   },
   "file_extension": ".py",
   "mimetype": "text/x-python",
   "name": "python",
   "nbconvert_exporter": "python",
   "pygments_lexer": "ipython3",
   "version": "3.8.8"
  }
 },
 "nbformat": 4,
 "nbformat_minor": 5
}
